{
  "nbformat": 4,
  "nbformat_minor": 0,
  "metadata": {
    "colab": {
      "provenance": []
    },
    "kernelspec": {
      "name": "python3",
      "display_name": "Python 3"
    },
    "language_info": {
      "name": "python"
    }
  },
  "cells": [
    {
      "cell_type": "code",
      "source": [],
      "metadata": {
        "id": "IRamcxvs-cZ5"
      },
      "execution_count": null,
      "outputs": []
    },
    {
      "cell_type": "code",
      "execution_count": 2,
      "metadata": {
        "id": "D87USSCRnkui"
      },
      "outputs": [],
      "source": [
        "import cv2\n",
        "\n",
        "def remove_hairBlack(input_image):\n",
        "\n",
        "    gray_scale = cv2.cvtColor(input_image, cv2.COLOR_BGR2GRAY)\n",
        "    kernel = cv2.getStructuringElement(cv2.MORPH_RECT, (17, 17))\n",
        "    blackhat = cv2.morphologyEx(gray_scale, cv2.MORPH_BLACKHAT, kernel)\n",
        "    ret, thresholded = cv2.threshold(blackhat, 10, 255, cv2.THRESH_BINARY)\n",
        "    inpainted_image = cv2.inpaint(input_image, thresholded, 1, cv2.INPAINT_TELEA)\n",
        "\n",
        "    return inpainted_image\n"
      ]
    },
    {
      "cell_type": "code",
      "source": [
        "def remove_hairWhite(input_image):\n",
        "    gray_scale = cv2.cvtColor(input_image, cv2.COLOR_BGR2GRAY)\n",
        "    kernel = cv2.getStructuringElement(cv2.MORPH_RECT, (17, 17))\n",
        "    tophat = cv2.morphologyEx(gray_scale, cv2.MORPH_TOPHAT, kernel)\n",
        "    ret, thresholded = cv2.threshold(tophat, 30, 255, cv2.THRESH_BINARY)\n",
        "    inpainted_image = cv2.inpaint(input_image, thresholded, 18, cv2.INPAINT_TELEA)\n",
        "\n",
        "    return inpainted_image"
      ],
      "metadata": {
        "id": "vMaQu_HlnryJ"
      },
      "execution_count": 3,
      "outputs": []
    },
    {
      "cell_type": "code",
      "source": [
        "import os\n",
        "def process_images(input_folder, output_folder):\n",
        "\n",
        "    os.makedirs(output_folder, exist_ok=True)\n",
        "\n",
        "    image_files = [f for f in os.listdir(input_folder) if f.lower().endswith(('.png', '.jpg', '.jpeg'))]\n",
        "\n",
        "    i=0\n",
        "    for image_file in image_files:\n",
        "\n",
        "        print(f\"start image {i}\")\n",
        "\n",
        "        image_path = os.path.join(input_folder, image_file)\n",
        "        input_image = cv2.imread(image_path)\n",
        "\n",
        "\n",
        "        output_image = remove_hairBlack(input_image)\n",
        "\n",
        "\n",
        "        output_path = os.path.join(output_folder, f\"{image_file}\")\n",
        "        cv2.imwrite(output_path, output_image)\n",
        "        print(f\"done {i}\")\n",
        "        i = i+1\n",
        "\n",
        "    print(\"Hair removal process completed for all images.\")\n",
        "\n"
      ],
      "metadata": {
        "id": "A41LBBSRnr0w"
      },
      "execution_count": 4,
      "outputs": []
    },
    {
      "cell_type": "code",
      "source": [
        "import os\n",
        "def process_imageswh(input_folder, output_folder):\n",
        "\n",
        "    os.makedirs(output_folder, exist_ok=True)\n",
        "\n",
        "    image_files = [f for f in os.listdir(input_folder) if f.lower().endswith(('.png', '.jpg', '.jpeg'))]\n",
        "\n",
        "    i=0;\n",
        "    for image_file in image_files:\n",
        "        print(f\"working image {i}\")\n",
        "        image_path = os.path.join(input_folder, image_file)\n",
        "        input_image = cv2.imread(image_path)\n",
        "\n",
        "\n",
        "        output_image = remove_hairWhite(input_image)\n",
        "\n",
        "\n",
        "        output_path = os.path.join(output_folder, f\"inpainted_{image_file}\")\n",
        "        cv2.imwrite(output_path, output_image)\n",
        "        print(f\"image done {i}\")\n",
        "        i=i+1\n",
        "\n",
        "    print(\"Hair removal process completed for all images.\")"
      ],
      "metadata": {
        "id": "yy3QO-Dznr3R"
      },
      "execution_count": 5,
      "outputs": []
    },
    {
      "cell_type": "code",
      "source": [
        "import os\n",
        "def process_imagesmx(input_folder, output_folder):\n",
        "\n",
        "    os.makedirs(output_folder, exist_ok=True)\n",
        "\n",
        "    image_files = [f for f in os.listdir(input_folder) if f.lower().endswith(('.png', '.jpg', '.jpeg'))]\n",
        "\n",
        "    i=0\n",
        "    for image_file in image_files:\n",
        "        print(f\"working image {i}\")\n",
        "        image_path = os.path.join(input_folder, image_file)\n",
        "        input_image = cv2.imread(image_path)\n",
        "\n",
        "\n",
        "        output_image0 = remove_hairWhite(input_image)\n",
        "        output_image = remove_hairBlack(output_image0)\n",
        "\n",
        "\n",
        "        output_path = os.path.join(output_folder, f\"inpainted_{image_file}\")\n",
        "        cv2.imwrite(output_path, output_image)\n",
        "        print(f\"done image{i}\")\n",
        "        i = i+1\n",
        "\n",
        "    print(\"Hair removal process completed for all images.\")"
      ],
      "metadata": {
        "id": "rdFrPXS1nr6E"
      },
      "execution_count": 6,
      "outputs": []
    },
    {
      "cell_type": "code",
      "source": [
        "input_folder_path = \"/content/drive/MyDrive/New_Data_Set/ACK mixed\"\n",
        "output_folder_path = \"/content/drive/MyDrive/ProcessHair/ACK_Mixed\"\n",
        "\n",
        "process_imagesmx(input_folder_path, output_folder_path)"
      ],
      "metadata": {
        "colab": {
          "base_uri": "https://localhost:8080/"
        },
        "id": "x7J3lZljnr8q",
        "outputId": "6e039180-f3e3-43ac-95cd-b0473e96bab3"
      },
      "execution_count": 7,
      "outputs": [
        {
          "output_type": "stream",
          "name": "stdout",
          "text": [
            "working image 0\n",
            "done image0\n",
            "working image 1\n",
            "done image1\n",
            "working image 2\n",
            "done image2\n",
            "working image 3\n",
            "done image3\n",
            "working image 4\n",
            "done image4\n",
            "working image 5\n",
            "done image5\n",
            "working image 6\n",
            "done image6\n",
            "working image 7\n",
            "done image7\n",
            "working image 8\n",
            "done image8\n",
            "working image 9\n",
            "done image9\n",
            "working image 10\n",
            "done image10\n",
            "working image 11\n",
            "done image11\n",
            "working image 12\n",
            "done image12\n",
            "working image 13\n",
            "done image13\n",
            "working image 14\n",
            "done image14\n",
            "working image 15\n",
            "done image15\n",
            "working image 16\n",
            "done image16\n",
            "working image 17\n",
            "done image17\n",
            "Hair removal process completed for all images.\n"
          ]
        }
      ]
    },
    {
      "cell_type": "code",
      "source": [
        "input_folder_path = \"/content/drive/MyDrive/New_Data_Set/BCC mixed\"\n",
        "output_folder_path = \"/content/drive/MyDrive/ProcessHair/BCC_Mixed\"\n",
        "\n",
        "process_imagesmx(input_folder_path, output_folder_path)"
      ],
      "metadata": {
        "colab": {
          "base_uri": "https://localhost:8080/"
        },
        "id": "EJe9Imyrnr_V",
        "outputId": "21899023-1ada-4a5c-da22-6221427a7d13"
      },
      "execution_count": null,
      "outputs": [
        {
          "output_type": "stream",
          "name": "stdout",
          "text": [
            "working image 0\n",
            "done image0\n",
            "working image 1\n",
            "done image1\n",
            "working image 2\n",
            "done image2\n",
            "working image 3\n",
            "done image3\n",
            "working image 4\n"
          ]
        }
      ]
    },
    {
      "cell_type": "code",
      "source": [
        "from google.colab import drive\n",
        "drive.mount('/content/drive')"
      ],
      "metadata": {
        "colab": {
          "base_uri": "https://localhost:8080/"
        },
        "id": "cOhJwUCTn_di",
        "outputId": "fd2fceec-fb96-4643-959b-8e8cf0b4ce28"
      },
      "execution_count": 1,
      "outputs": [
        {
          "output_type": "stream",
          "name": "stdout",
          "text": [
            "Mounted at /content/drive\n"
          ]
        }
      ]
    },
    {
      "cell_type": "code",
      "source": [
        "import os\n",
        "import shutil\n",
        "\n",
        "def copy_images_to_new_folder(source_folder, destination_folder):\n",
        "\n",
        "    os.makedirs(destination_folder, exist_ok=True)\n",
        "\n",
        "\n",
        "    all_files = os.listdir(source_folder)\n",
        "\n",
        "\n",
        "    image_files = [file for file in all_files if file.lower().endswith(('.jpg', '.jpeg', '.png'))]\n",
        "\n",
        "    i=0\n",
        "    for image_file in image_files:\n",
        "        print(f\"proc {i}\")\n",
        "        source_path = os.path.join(source_folder, image_file)\n",
        "        destination_path = os.path.join(destination_folder, image_file)\n",
        "        shutil.copyfile(source_path, destination_path)\n",
        "        i = i+1\n",
        "\n",
        "\n",
        "\n"
      ],
      "metadata": {
        "id": "hUuJrgsYnsCB"
      },
      "execution_count": 1,
      "outputs": []
    },
    {
      "cell_type": "code",
      "source": [
        "source_folder_path = '/content/drive/MyDrive/New_Data_Set/SEK New'\n",
        "destination_folder_path = '/content/drive/MyDrive/FinalDatasetV1/SEK'\n",
        "\n",
        "copy_images_to_new_folder(source_folder_path, destination_folder_path)\n",
        "\n",
        "print(f\"Images copied from {source_folder_path} to {destination_folder_path}.\")"
      ],
      "metadata": {
        "colab": {
          "base_uri": "https://localhost:8080/"
        },
        "id": "BsXh_D75nsEp",
        "outputId": "bef814b0-2979-4491-b1b4-970efd7004e7"
      },
      "execution_count": 25,
      "outputs": [
        {
          "output_type": "stream",
          "name": "stdout",
          "text": [
            "proc 0\n",
            "proc 1\n",
            "proc 2\n",
            "proc 3\n",
            "proc 4\n",
            "proc 5\n",
            "proc 6\n",
            "proc 7\n",
            "proc 8\n",
            "proc 9\n",
            "proc 10\n",
            "proc 11\n",
            "proc 12\n",
            "proc 13\n",
            "proc 14\n",
            "proc 15\n",
            "proc 16\n",
            "proc 17\n",
            "proc 18\n",
            "proc 19\n",
            "proc 20\n",
            "proc 21\n",
            "proc 22\n",
            "proc 23\n",
            "proc 24\n",
            "proc 25\n",
            "proc 26\n",
            "proc 27\n",
            "proc 28\n",
            "proc 29\n",
            "proc 30\n",
            "proc 31\n",
            "proc 32\n",
            "proc 33\n",
            "proc 34\n",
            "proc 35\n",
            "proc 36\n",
            "proc 37\n",
            "proc 38\n",
            "proc 39\n",
            "proc 40\n",
            "proc 41\n",
            "proc 42\n",
            "proc 43\n",
            "proc 44\n",
            "proc 45\n",
            "proc 46\n",
            "proc 47\n",
            "proc 48\n",
            "proc 49\n",
            "proc 50\n",
            "proc 51\n",
            "proc 52\n",
            "proc 53\n",
            "proc 54\n",
            "proc 55\n",
            "proc 56\n",
            "proc 57\n",
            "proc 58\n",
            "proc 59\n",
            "proc 60\n",
            "proc 61\n",
            "proc 62\n",
            "proc 63\n",
            "proc 64\n",
            "proc 65\n",
            "proc 66\n",
            "proc 67\n",
            "proc 68\n",
            "proc 69\n",
            "proc 70\n",
            "proc 71\n",
            "proc 72\n",
            "proc 73\n",
            "proc 74\n",
            "proc 75\n",
            "proc 76\n",
            "proc 77\n",
            "proc 78\n",
            "proc 79\n",
            "proc 80\n",
            "proc 81\n",
            "proc 82\n",
            "proc 83\n",
            "proc 84\n",
            "proc 85\n",
            "proc 86\n",
            "proc 87\n",
            "proc 88\n",
            "proc 89\n",
            "proc 90\n",
            "proc 91\n",
            "proc 92\n",
            "proc 93\n",
            "proc 94\n",
            "proc 95\n",
            "proc 96\n",
            "proc 97\n",
            "proc 98\n",
            "proc 99\n",
            "proc 100\n",
            "proc 101\n",
            "proc 102\n",
            "proc 103\n",
            "proc 104\n",
            "proc 105\n",
            "proc 106\n",
            "proc 107\n",
            "proc 108\n",
            "proc 109\n",
            "proc 110\n",
            "proc 111\n",
            "proc 112\n",
            "proc 113\n",
            "proc 114\n",
            "proc 115\n",
            "proc 116\n",
            "proc 117\n",
            "proc 118\n",
            "proc 119\n",
            "proc 120\n",
            "proc 121\n",
            "proc 122\n",
            "proc 123\n",
            "proc 124\n",
            "proc 125\n",
            "proc 126\n",
            "proc 127\n",
            "proc 128\n",
            "proc 129\n",
            "proc 130\n",
            "proc 131\n",
            "proc 132\n",
            "proc 133\n",
            "proc 134\n",
            "proc 135\n",
            "proc 136\n",
            "proc 137\n",
            "proc 138\n",
            "proc 139\n",
            "proc 140\n",
            "proc 141\n",
            "proc 142\n",
            "proc 143\n",
            "proc 144\n",
            "proc 145\n",
            "proc 146\n",
            "proc 147\n",
            "proc 148\n",
            "Images copied from /content/drive/MyDrive/New_Data_Set/SEK New to /content/drive/MyDrive/FinalDatasetV1/SEK.\n"
          ]
        }
      ]
    },
    {
      "cell_type": "code",
      "source": [
        "import os\n",
        "\n",
        "def count_total_images_in_dataset(dataset_folder):\n",
        "    total_images = 0\n",
        "\n",
        "\n",
        "    for class_folder in os.listdir(dataset_folder):\n",
        "        class_folder_path = os.path.join(dataset_folder, class_folder)\n",
        "\n",
        "\n",
        "        if os.path.isdir(class_folder_path):\n",
        "\n",
        "            all_files = os.listdir(class_folder_path)\n",
        "\n",
        "\n",
        "            image_files = [file for file in all_files if file.lower().endswith(('.jpg', '.jpeg', '.png'))]\n",
        "\n",
        "\n",
        "            total_images += len(image_files)\n",
        "\n",
        "    return total_images\n",
        "\n",
        "\n",
        "\n"
      ],
      "metadata": {
        "id": "MDyzAHG8nsHr"
      },
      "execution_count": 26,
      "outputs": []
    },
    {
      "cell_type": "code",
      "source": [
        "dataset_folder_path = '/content/drive/MyDrive/FinalDatasetV1'\n",
        "total_images_count = count_total_images_in_dataset(dataset_folder_path)\n",
        "\n",
        "print(f\"There are {total_images_count} images in the entire dataset.\")"
      ],
      "metadata": {
        "colab": {
          "base_uri": "https://localhost:8080/"
        },
        "id": "mEe0UFIy8lUM",
        "outputId": "702438de-83d3-4ca6-95aa-0d794fd82a34"
      },
      "execution_count": 27,
      "outputs": [
        {
          "output_type": "stream",
          "name": "stdout",
          "text": [
            "There are 2244 images in the entire dataset.\n"
          ]
        }
      ]
    },
    {
      "cell_type": "code",
      "source": [],
      "metadata": {
        "id": "nb0byn1V8qre"
      },
      "execution_count": null,
      "outputs": []
    }
  ]
}